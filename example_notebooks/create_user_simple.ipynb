{
 "cells": [
  {
   "cell_type": "code",
   "execution_count": 1,
   "metadata": {},
   "outputs": [],
   "source": [
    "from pydiatr.handler import AbstractHandler, AbstractRequest, AbstractResponse\n",
    "from pydiatr.registry import Registry"
   ]
  },
  {
   "cell_type": "code",
   "execution_count": 8,
   "metadata": {},
   "outputs": [],
   "source": [
    "registry = Registry()"
   ]
  },
  {
   "cell_type": "code",
   "execution_count": 9,
   "metadata": {},
   "outputs": [],
   "source": [
    "class CreateUserRequest(AbstractRequest):\n",
    "    username: str\n",
    "    email: str\n",
    "\n",
    "class CreateUserResponse(AbstractResponse):\n",
    "    success: bool"
   ]
  },
  {
   "cell_type": "code",
   "execution_count": 10,
   "metadata": {},
   "outputs": [
    {
     "name": "stdout",
     "output_type": "stream",
     "text": [
      "Creating user: test with email: test@test.com\n",
      "success=True\n"
     ]
    }
   ],
   "source": [
    "@registry.decorate_handler\n",
    "class CreateUserHandler(AbstractHandler[CreateUserRequest, CreateUserResponse]):\n",
    "\n",
    "    async def handle(self, request: CreateUserRequest) -> CreateUserResponse:\n",
    "        print(f\"Creating user: {request.username} with email: {request.email}\")\n",
    "        return CreateUserResponse(success=True)\n",
    "    \n",
    "response = await registry.dispatch(\n",
    "    CreateUserRequest(\n",
    "        username=\"test\", \n",
    "        email=\"test@test.com\"\n",
    "    )\n",
    ")\n",
    "print(response)"
   ]
  },
  {
   "cell_type": "code",
   "execution_count": 11,
   "metadata": {},
   "outputs": [
    {
     "name": "stdout",
     "output_type": "stream",
     "text": [
      "Creating user: test with email: test@test.com and arg1: ARG1\n",
      "success=True\n"
     ]
    }
   ],
   "source": [
    "@registry.decorate_handler\n",
    "class CreateUserWithArgs(AbstractHandler[CreateUserRequest, CreateUserResponse]):\n",
    "\n",
    "    async def handle(self, request: CreateUserRequest, arg1: str) -> CreateUserResponse:\n",
    "        print(f\"Creating user: {request.username} with email: {request.email} and arg1: {arg1}\")\n",
    "        return CreateUserResponse(success=True)\n",
    "    \n",
    "response = await registry.dispatch(\n",
    "    CreateUserRequest(\n",
    "        username=\"test\", \n",
    "        email=\"test@test.com\"\n",
    "    ),\n",
    "    \"ARG1\"\n",
    ")\n",
    "print(response)"
   ]
  },
  {
   "cell_type": "code",
   "execution_count": 13,
   "metadata": {},
   "outputs": [
    {
     "name": "stdout",
     "output_type": "stream",
     "text": [
      "Creating user: test with email: test@test.com and arg1: KWARG1\n",
      "success=True\n"
     ]
    }
   ],
   "source": [
    "@registry.decorate_handler\n",
    "class CreateUserWithKwargs(AbstractHandler[CreateUserRequest, CreateUserResponse]):\n",
    "\n",
    "    async def handle(self, request: CreateUserRequest, arg1: str) -> CreateUserResponse:\n",
    "        print(f\"Creating user: {request.username} with email: {request.email} and arg1: {arg1}\")\n",
    "        return CreateUserResponse(success=True)\n",
    "    \n",
    "response = await registry.dispatch(\n",
    "    CreateUserRequest(\n",
    "        username=\"test\", \n",
    "        email=\"test@test.com\"\n",
    "    ),\n",
    "    arg1=\"KWARG1\"\n",
    ")\n",
    "print(response)"
   ]
  },
  {
   "cell_type": "code",
   "execution_count": null,
   "metadata": {},
   "outputs": [],
   "source": []
  }
 ],
 "metadata": {
  "kernelspec": {
   "display_name": ".venv",
   "language": "python",
   "name": "python3"
  },
  "language_info": {
   "codemirror_mode": {
    "name": "ipython",
    "version": 3
   },
   "file_extension": ".py",
   "mimetype": "text/x-python",
   "name": "python",
   "nbconvert_exporter": "python",
   "pygments_lexer": "ipython3",
   "version": "3.10.1"
  }
 },
 "nbformat": 4,
 "nbformat_minor": 2
}
